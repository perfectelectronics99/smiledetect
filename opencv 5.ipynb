{
 "cells": [
  {
   "cell_type": "code",
   "execution_count": 7,
   "metadata": {},
   "outputs": [],
   "source": [
    "import cv2\n",
    "face_cascade = cv2.CascadeClassifier('Haarcascades/haarcascade_frontalface_default.xml')\n",
    "eye_cascade = cv2.CascadeClassifier('Haarcascades/haarcascade_eye.xml') \n",
    "smile_cascade = cv2.CascadeClassifier('Haarcascades/haarcascade_smile.xml') \n"
   ]
  },
  {
   "cell_type": "code",
   "execution_count": 8,
   "metadata": {},
   "outputs": [],
   "source": [
    "def detect(gray, frame): \n",
    "\tfaces = face_cascade.detectMultiScale(gray, 1.3, 5) \n",
    "\tfor (x, y, w, h) in faces: \n",
    "\t\tcv2.rectangle(frame, (x, y), ((x + w), (y + h)), (255, 0, 0), 2) \n",
    "\t\troi_gray = gray[y:y + h, x:x + w] \n",
    "\t\troi_color = frame[y:y + h, x:x + w]\n",
    "\t\tsmiles = smile_cascade.detectMultiScale(roi_gray, 1.8, 20) \n",
    "\n",
    "\t\tfor (sx, sy, sw, sh) in smiles: \n",
    "\t\t\tcv2.rectangle(roi_color, (sx, sy), ((sx + sw), (sy + sh)), (0, 0, 255), 2) \n",
    "\treturn frame \n"
   ]
  },
  {
   "cell_type": "code",
   "execution_count": 9,
   "metadata": {},
   "outputs": [],
   "source": [
    "video_capture = cv2.VideoCapture(0) \n",
    "while True: \n",
    "# Captures video_capture frame by frame \n",
    "\t_, frame = video_capture.read() \n",
    "\n",
    "\t# To capture image in monochrome\t\t\t\t\t \n",
    "\tgray = cv2.cvtColor(frame, cv2.COLOR_BGR2GRAY) \n",
    "\t\n",
    "\t# calls the detect() function\t \n",
    "\tcanvas = detect(gray, frame) \n",
    "\n",
    "\t# Displays the result on camera feed\t\t\t\t\t \n",
    "\tcv2.imshow('Video', canvas) \n",
    "\n",
    "\t# The control breaks once q key is pressed\t\t\t\t\t\t \n",
    "\tif cv2.waitKey(1) & 0xff == ord('q'):\t\t\t \n",
    "\t\tbreak\n",
    "\n",
    "# Release the capture once all the processing is done. \n",
    "video_capture.release()\t\t\t\t\t\t\t\t \n",
    "cv2.destroyAllWindows() \n"
   ]
  },
  {
   "cell_type": "code",
   "execution_count": null,
   "metadata": {},
   "outputs": [],
   "source": []
  }
 ],
 "metadata": {
  "kernelspec": {
   "display_name": "Python 3",
   "language": "python",
   "name": "python3"
  },
  "language_info": {
   "codemirror_mode": {
    "name": "ipython",
    "version": 3
   },
   "file_extension": ".py",
   "mimetype": "text/x-python",
   "name": "python",
   "nbconvert_exporter": "python",
   "pygments_lexer": "ipython3",
   "version": "3.7.4"
  }
 },
 "nbformat": 4,
 "nbformat_minor": 2
}
